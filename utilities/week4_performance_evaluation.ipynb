{
 "cells": [
  {
   "attachments": {},
   "cell_type": "markdown",
   "metadata": {},
   "source": [
    "## Imports"
   ]
  },
  {
   "cell_type": "code",
   "execution_count": null,
   "metadata": {},
   "outputs": [],
   "source": [
    "from opensearchpy import OpenSearch\n",
    "from IPython.display import display, HTML\n",
    "import imgkit\n",
    "import shutil\n",
    "import os\n",
    "from query import search\n",
    "\n",
    "import sys\n",
    "import fasttext\n",
    "from query import QueryClassification\n",
    "\n",
    "sys.path.append(os.path.abspath(os.path.join(\"..\")))\n",
    "from week3.transform_query import transform_query"
   ]
  },
  {
   "attachments": {},
   "cell_type": "markdown",
   "metadata": {},
   "source": [
    "## Setup"
   ]
  },
  {
   "cell_type": "code",
   "execution_count": null,
   "metadata": {},
   "outputs": [],
   "source": [
    "host = \"localhost\"\n",
    "port = 9200\n",
    "base_url = \"http://{}:{}/\".format(host, port)\n",
    "ROOT_DIR = os.path.abspath(os.path.join(os.path.dirname(\"__file__\"), '..'))\n",
    "FILE_DIR = os.path.abspath(os.path.dirname(\"__file__\"))\n",
    "IMAGE_OUTPUT_DIR = os.path.join(ROOT_DIR, \"week4/out\")\n",
    "client = OpenSearch(\n",
    "    hosts=[{\"host\": host, \"port\": port}],\n",
    "    http_compress=True,  # enables gzip compression for request bodies\n",
    "    use_ssl=False,\n",
    ")\n",
    "\n",
    "query_classification_model_file_path = os.path.join(ROOT_DIR, \"datasets/fasttext/labeled_queries_model.bin\")\n",
    "query_classification_model = fasttext.load_model(\n",
    "    query_classification_model_file_path\n",
    ")"
   ]
  },
  {
   "attachments": {},
   "cell_type": "markdown",
   "metadata": {},
   "source": [
    "## Output"
   ]
  },
  {
   "cell_type": "code",
   "execution_count": null,
   "metadata": {},
   "outputs": [],
   "source": [
    "def render_comparision(user_query, render_to_img):\n",
    "    base_query_response, _not_used, _not_used = search(\n",
    "        client, user_query, source=source\n",
    "    )\n",
    "    vector_search_response, _not_used, _not_used = search(\n",
    "        client, user_query, source=source, size=size, vector_search=True\n",
    "    )\n",
    "    vector_search_with_query_classification_response, _not_used, _not_used = search(\n",
    "        client,\n",
    "        user_query,\n",
    "        source=source,\n",
    "        query_classification=query_classification,\n",
    "        vector_search=True,\n",
    "    )\n",
    "\n",
    "    def hit_to_html(hit):\n",
    "        hit_source = hit[\"_source\"]\n",
    "        return f\"\"\"<div style=\"display: flex; align-items:center; max-width:100%; oveflow:hidden; padding: 10px;\">\n",
    "                        <img style=\"max-width: 200px; max-height: 80px; margin-right:10px;\" src=\"{hit_source[\"image\"][0]}\"/>\n",
    "                        <span style=\"font-size: 16px; color: black;\">{hit_source[\"name\"][0]}</span>\n",
    "                    </div>\"\"\"\n",
    "\n",
    "    base_query_html = \"\\n\".join(\n",
    "        map(lambda hit: hit_to_html(hit), base_query_response[\"hits\"][\"hits\"])\n",
    "    )\n",
    "    vector_search_html = \"\\n\".join(\n",
    "        map(lambda hit: hit_to_html(hit), vector_search_response[\"hits\"][\"hits\"])\n",
    "    )\n",
    "    vector_search_with_query_classification_html = \"\\n\".join(\n",
    "        map(\n",
    "            lambda hit: hit_to_html(hit),\n",
    "            vector_search_with_query_classification_response[\"hits\"][\"hits\"],\n",
    "        )\n",
    "    )\n",
    "\n",
    "    html = f\"\"\"<head>\n",
    "        <style>\n",
    "        .container {{background: white;}}\n",
    "        h4 {{font-size: 18px; color: black; background: white;}}\n",
    "        h3 {{font-size: 20px; color: black; text-align:center; border-bottom:1px solid;}}\n",
    "        section {{display: inline-block; width:33%; border-right:1px dashed;}}\n",
    "        </style>\n",
    "    </head>\n",
    "    <body>\n",
    "        <div class=\"container\">\n",
    "            <h4>Search results for: \"{user_query}\"</h4>\n",
    "            <div>\n",
    "                <section>\n",
    "                    <div><h3>Base query</h3>\n",
    "                    {base_query_html}\n",
    "                </section>\n",
    "                <section>\n",
    "                    <h3>Vector search</h3>\n",
    "                    {vector_search_html}\n",
    "                </section>\n",
    "                <section>\n",
    "                    <h3>Vector with query classification</h3>\n",
    "                    {vector_search_with_query_classification_html}\n",
    "                </section>\n",
    "            </div>\n",
    "        </div>\n",
    "    </body>\n",
    "    \"\"\"\n",
    "    if render_to_img:\n",
    "        imgkit.from_string(\n",
    "            html,\n",
    "            f\"{user_query}.jpg\",\n",
    "            options={\n",
    "                \"format\": \"jpeg\",\n",
    "            },\n",
    "        )\n",
    "        shutil.move(\n",
    "            os.path.join(FILE_DIR, f\"{user_query}.jpg\"),\n",
    "            os.path.join(IMAGE_OUTPUT_DIR, f\"{user_query}.jpg\"),\n",
    "        )\n",
    "    else:\n",
    "        display(HTML(html))\n",
    "\n",
    "\n",
    "# config\n",
    "size = 10\n",
    "source = [\"name\", \"shortDescription\", \"image\"]\n",
    "test_queries = [\"Ipad\", \"Touchpad\", \"camera\", \"Bed\"]\n",
    "\n",
    "query_classification = QueryClassification(\n",
    "    model=query_classification_model,\n",
    "    threshold=0.5,\n",
    "    label_prefix=\"__label__\",\n",
    "    transform_query=transform_query,\n",
    "    prediction_count=5,\n",
    ")\n",
    "\n",
    "for user_query in test_queries:\n",
    "    render_comparision(user_query=user_query, render_to_img=True)"
   ]
  },
  {
   "cell_type": "markdown",
   "metadata": {},
   "source": []
  }
 ],
 "metadata": {
  "kernelspec": {
   "display_name": ".venv",
   "language": "python",
   "name": "python3"
  },
  "language_info": {
   "codemirror_mode": {
    "name": "ipython",
    "version": 3
   },
   "file_extension": ".py",
   "mimetype": "text/x-python",
   "name": "python",
   "nbconvert_exporter": "python",
   "pygments_lexer": "ipython3",
   "version": "3.9.16"
  },
  "orig_nbformat": 4,
  "vscode": {
   "interpreter": {
    "hash": "cb947d4ef71164cd27c1a4ae6d2974e5be4b558ee6d51a7490b0c4f2ba1bde70"
   }
  }
 },
 "nbformat": 4,
 "nbformat_minor": 2
}
